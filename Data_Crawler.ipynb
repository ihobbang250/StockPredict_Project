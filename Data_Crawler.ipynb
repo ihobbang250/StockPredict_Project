{
 "cells": [
  {
   "cell_type": "code",
   "execution_count": 29,
   "metadata": {},
   "outputs": [],
   "source": [
    "import pandas as pd\n",
    "from pykrx import stock"
   ]
  },
  {
   "cell_type": "code",
   "execution_count": 30,
   "metadata": {},
   "outputs": [
    {
     "data": {
      "text/html": [
       "<div>\n",
       "<style scoped>\n",
       "    .dataframe tbody tr th:only-of-type {\n",
       "        vertical-align: middle;\n",
       "    }\n",
       "\n",
       "    .dataframe tbody tr th {\n",
       "        vertical-align: top;\n",
       "    }\n",
       "\n",
       "    .dataframe thead th {\n",
       "        text-align: right;\n",
       "    }\n",
       "</style>\n",
       "<table border=\"1\" class=\"dataframe\">\n",
       "  <thead>\n",
       "    <tr style=\"text-align: right;\">\n",
       "      <th></th>\n",
       "      <th>NAV</th>\n",
       "      <th>시가</th>\n",
       "      <th>고가</th>\n",
       "      <th>저가</th>\n",
       "      <th>종가</th>\n",
       "      <th>거래량</th>\n",
       "      <th>괴리율</th>\n",
       "      <th>추적오차율</th>\n",
       "    </tr>\n",
       "    <tr>\n",
       "      <th>날짜</th>\n",
       "      <th></th>\n",
       "      <th></th>\n",
       "      <th></th>\n",
       "      <th></th>\n",
       "      <th></th>\n",
       "      <th></th>\n",
       "      <th></th>\n",
       "      <th></th>\n",
       "    </tr>\n",
       "  </thead>\n",
       "  <tbody>\n",
       "    <tr>\n",
       "      <th>2013-01-04</th>\n",
       "      <td>26950.53</td>\n",
       "      <td>27060</td>\n",
       "      <td>27080</td>\n",
       "      <td>26825</td>\n",
       "      <td>26870</td>\n",
       "      <td>5112298</td>\n",
       "      <td>-0.30</td>\n",
       "      <td>-0.01</td>\n",
       "    </tr>\n",
       "    <tr>\n",
       "      <th>2013-01-07</th>\n",
       "      <td>26927.29</td>\n",
       "      <td>26895</td>\n",
       "      <td>26930</td>\n",
       "      <td>26685</td>\n",
       "      <td>26885</td>\n",
       "      <td>4449424</td>\n",
       "      <td>-0.16</td>\n",
       "      <td>-0.03</td>\n",
       "    </tr>\n",
       "    <tr>\n",
       "      <th>2013-01-08</th>\n",
       "      <td>26719.95</td>\n",
       "      <td>26755</td>\n",
       "      <td>26860</td>\n",
       "      <td>26600</td>\n",
       "      <td>26600</td>\n",
       "      <td>3925874</td>\n",
       "      <td>-0.45</td>\n",
       "      <td>-0.01</td>\n",
       "    </tr>\n",
       "    <tr>\n",
       "      <th>2013-01-09</th>\n",
       "      <td>26608.77</td>\n",
       "      <td>26655</td>\n",
       "      <td>26765</td>\n",
       "      <td>26490</td>\n",
       "      <td>26500</td>\n",
       "      <td>4889353</td>\n",
       "      <td>-0.41</td>\n",
       "      <td>-0.02</td>\n",
       "    </tr>\n",
       "    <tr>\n",
       "      <th>2013-01-10</th>\n",
       "      <td>26812.66</td>\n",
       "      <td>26545</td>\n",
       "      <td>26800</td>\n",
       "      <td>26440</td>\n",
       "      <td>26735</td>\n",
       "      <td>5232167</td>\n",
       "      <td>-0.29</td>\n",
       "      <td>-0.01</td>\n",
       "    </tr>\n",
       "  </tbody>\n",
       "</table>\n",
       "</div>"
      ],
      "text/plain": [
       "                 NAV     시가     고가     저가     종가      거래량   괴리율  추적오차율\n",
       "날짜                                                                    \n",
       "2013-01-04  26950.53  27060  27080  26825  26870  5112298 -0.30  -0.01\n",
       "2013-01-07  26927.29  26895  26930  26685  26885  4449424 -0.16  -0.03\n",
       "2013-01-08  26719.95  26755  26860  26600  26600  3925874 -0.45  -0.01\n",
       "2013-01-09  26608.77  26655  26765  26490  26500  4889353 -0.41  -0.02\n",
       "2013-01-10  26812.66  26545  26800  26440  26735  5232167 -0.29  -0.01"
      ]
     },
     "execution_count": 30,
     "metadata": {},
     "output_type": "execute_result"
    }
   ],
   "source": [
    "kodex200_ticker = \"069500\"\n",
    "\n",
    "years = range(2013, 2023)\n",
    "\n",
    "data_frames = []\n",
    "for year in years:\n",
    "    start_date = f\"{year}-01-04\"\n",
    "    end_date = f\"{year+1}-01-03\"\n",
    "    \n",
    "    if year == 2022:\n",
    "        end_date = f\"{year+1}-01-04\"\n",
    "\n",
    "    ohlcv_data = stock.get_etf_ohlcv_by_date(start_date, end_date, kodex200_ticker, 'd')\n",
    "\n",
    "    deviation = stock.get_etf_price_deviation(start_date, end_date, kodex200_ticker)\n",
    "    deviation = deviation['괴리율']\n",
    "\n",
    "    error = stock.get_etf_tracking_error(start_date, end_date, kodex200_ticker)\n",
    "    error = error['추적오차율']\n",
    "\n",
    "    feature_df = pd.concat([ohlcv_data, deviation], axis = 1)\n",
    "    feature_df = pd.concat([feature_df, error], axis =1)\n",
    "    data_frames.append(feature_df)\n",
    "\n",
    "combined_df = pd.concat(data_frames)\n",
    "combined_df.drop(['기초지수', '거래대금'], axis=1, inplace=True)\n",
    "combined_df.head()"
   ]
  },
  {
   "cell_type": "code",
   "execution_count": 31,
   "metadata": {},
   "outputs": [
    {
     "data": {
      "text/html": [
       "<div>\n",
       "<style scoped>\n",
       "    .dataframe tbody tr th:only-of-type {\n",
       "        vertical-align: middle;\n",
       "    }\n",
       "\n",
       "    .dataframe tbody tr th {\n",
       "        vertical-align: top;\n",
       "    }\n",
       "\n",
       "    .dataframe thead th {\n",
       "        text-align: right;\n",
       "    }\n",
       "</style>\n",
       "<table border=\"1\" class=\"dataframe\">\n",
       "  <thead>\n",
       "    <tr style=\"text-align: right;\">\n",
       "      <th></th>\n",
       "      <th>NAV</th>\n",
       "      <th>시가</th>\n",
       "      <th>고가</th>\n",
       "      <th>저가</th>\n",
       "      <th>종가</th>\n",
       "      <th>거래량</th>\n",
       "      <th>괴리율</th>\n",
       "      <th>추적오차율</th>\n",
       "    </tr>\n",
       "    <tr>\n",
       "      <th>날짜</th>\n",
       "      <th></th>\n",
       "      <th></th>\n",
       "      <th></th>\n",
       "      <th></th>\n",
       "      <th></th>\n",
       "      <th></th>\n",
       "      <th></th>\n",
       "      <th></th>\n",
       "    </tr>\n",
       "  </thead>\n",
       "  <tbody>\n",
       "    <tr>\n",
       "      <th>2022-12-28</th>\n",
       "      <td>30227.32</td>\n",
       "      <td>30355</td>\n",
       "      <td>30395</td>\n",
       "      <td>30100</td>\n",
       "      <td>30135</td>\n",
       "      <td>7272311</td>\n",
       "      <td>-0.31</td>\n",
       "      <td>0.56</td>\n",
       "    </tr>\n",
       "    <tr>\n",
       "      <th>2022-12-29</th>\n",
       "      <td>29626.57</td>\n",
       "      <td>29970</td>\n",
       "      <td>30010</td>\n",
       "      <td>29595</td>\n",
       "      <td>29595</td>\n",
       "      <td>5512087</td>\n",
       "      <td>-0.11</td>\n",
       "      <td>0.56</td>\n",
       "    </tr>\n",
       "    <tr>\n",
       "      <th>2023-01-02</th>\n",
       "      <td>29494.72</td>\n",
       "      <td>29665</td>\n",
       "      <td>29830</td>\n",
       "      <td>29390</td>\n",
       "      <td>29420</td>\n",
       "      <td>5627556</td>\n",
       "      <td>-0.25</td>\n",
       "      <td>0.56</td>\n",
       "    </tr>\n",
       "    <tr>\n",
       "      <th>2023-01-03</th>\n",
       "      <td>29473.67</td>\n",
       "      <td>29455</td>\n",
       "      <td>29545</td>\n",
       "      <td>28870</td>\n",
       "      <td>29420</td>\n",
       "      <td>9260988</td>\n",
       "      <td>-0.18</td>\n",
       "      <td>0.56</td>\n",
       "    </tr>\n",
       "    <tr>\n",
       "      <th>2023-01-04</th>\n",
       "      <td>30116.74</td>\n",
       "      <td>29255</td>\n",
       "      <td>30110</td>\n",
       "      <td>29240</td>\n",
       "      <td>30040</td>\n",
       "      <td>8096923</td>\n",
       "      <td>-0.25</td>\n",
       "      <td>0.56</td>\n",
       "    </tr>\n",
       "  </tbody>\n",
       "</table>\n",
       "</div>"
      ],
      "text/plain": [
       "                 NAV     시가     고가     저가     종가      거래량   괴리율  추적오차율\n",
       "날짜                                                                    \n",
       "2022-12-28  30227.32  30355  30395  30100  30135  7272311 -0.31   0.56\n",
       "2022-12-29  29626.57  29970  30010  29595  29595  5512087 -0.11   0.56\n",
       "2023-01-02  29494.72  29665  29830  29390  29420  5627556 -0.25   0.56\n",
       "2023-01-03  29473.67  29455  29545  28870  29420  9260988 -0.18   0.56\n",
       "2023-01-04  30116.74  29255  30110  29240  30040  8096923 -0.25   0.56"
      ]
     },
     "execution_count": 31,
     "metadata": {},
     "output_type": "execute_result"
    }
   ],
   "source": [
    "combined_df.tail()"
   ]
  },
  {
   "cell_type": "code",
   "execution_count": 32,
   "metadata": {},
   "outputs": [
    {
     "name": "stdout",
     "output_type": "stream",
     "text": [
      "<class 'pandas.core.frame.DataFrame'>\n",
      "DatetimeIndex: 2462 entries, 2013-01-04 to 2023-01-04\n",
      "Data columns (total 8 columns):\n",
      " #   Column  Non-Null Count  Dtype  \n",
      "---  ------  --------------  -----  \n",
      " 0   NAV     2462 non-null   float64\n",
      " 1   시가      2462 non-null   uint32 \n",
      " 2   고가      2462 non-null   uint32 \n",
      " 3   저가      2462 non-null   uint32 \n",
      " 4   종가      2462 non-null   uint32 \n",
      " 5   거래량     2462 non-null   uint64 \n",
      " 6   괴리율     2462 non-null   float32\n",
      " 7   추적오차율   2462 non-null   float32\n",
      "dtypes: float32(2), float64(1), uint32(4), uint64(1)\n",
      "memory usage: 115.4 KB\n"
     ]
    }
   ],
   "source": [
    "combined_df.info()"
   ]
  },
  {
   "cell_type": "code",
   "execution_count": 34,
   "metadata": {},
   "outputs": [],
   "source": [
    "combined_df = combined_df.loc[~combined_df.index.duplicated(keep='first')]"
   ]
  },
  {
   "cell_type": "code",
   "execution_count": 33,
   "metadata": {},
   "outputs": [
    {
     "name": "stdout",
     "output_type": "stream",
     "text": [
      "                 NAV     시가     고가     저가     종가      거래량  괴리율  추적오차율\n",
      "날짜                                                                   \n",
      "2016-01-04  23896.74  24265  24275  23850  23850  6928106 -0.2   1.97\n"
     ]
    }
   ],
   "source": [
    "extracted_rows = combined_df[combined_df.index == '2016-01-04']\n",
    "print(extracted_rows)"
   ]
  },
  {
   "cell_type": "code",
   "execution_count": 35,
   "metadata": {},
   "outputs": [
    {
     "name": "stdout",
     "output_type": "stream",
     "text": [
      "<class 'pandas.core.frame.DataFrame'>\n",
      "DatetimeIndex: 2462 entries, 2013-01-04 to 2023-01-04\n",
      "Data columns (total 8 columns):\n",
      " #   Column  Non-Null Count  Dtype  \n",
      "---  ------  --------------  -----  \n",
      " 0   NAV     2462 non-null   float64\n",
      " 1   시가      2462 non-null   uint32 \n",
      " 2   고가      2462 non-null   uint32 \n",
      " 3   저가      2462 non-null   uint32 \n",
      " 4   종가      2462 non-null   uint32 \n",
      " 5   거래량     2462 non-null   uint64 \n",
      " 6   괴리율     2462 non-null   float32\n",
      " 7   추적오차율   2462 non-null   float32\n",
      "dtypes: float32(2), float64(1), uint32(4), uint64(1)\n",
      "memory usage: 115.4 KB\n"
     ]
    }
   ],
   "source": [
    "combined_df.info()"
   ]
  },
  {
   "cell_type": "code",
   "execution_count": 36,
   "metadata": {},
   "outputs": [],
   "source": [
    "combined_df.to_csv(\"./Data/kodex200_data.csv\")"
   ]
  }
 ],
 "metadata": {
  "kernelspec": {
   "display_name": "main",
   "language": "python",
   "name": "python3"
  },
  "language_info": {
   "codemirror_mode": {
    "name": "ipython",
    "version": 3
   },
   "file_extension": ".py",
   "mimetype": "text/x-python",
   "name": "python",
   "nbconvert_exporter": "python",
   "pygments_lexer": "ipython3",
   "version": "3.10.4"
  },
  "orig_nbformat": 4
 },
 "nbformat": 4,
 "nbformat_minor": 2
}
